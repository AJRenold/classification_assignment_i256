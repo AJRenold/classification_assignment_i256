{
 "metadata": {
  "name": ""
 },
 "nbformat": 3,
 "nbformat_minor": 0,
 "worksheets": [
  {
   "cells": [
    {
     "cell_type": "markdown",
     "metadata": {},
     "source": [
      "The assignment over the next two weeks will be to build a classifier that can distinguish positive\n",
      "vs negative aspects of product reviews. Your groups will compete for championship status! I will give prizes for first and second place for each of two categories: sentence-level sentiment assignment (positive, negative, or neutral) and product attribute recognition.  More details on the scoring and product features will be supplied next week, including some code that acts as the evaluation function.\n"
     ]
    },
    {
     "cell_type": "code",
     "collapsed": false,
     "input": [
      "import nltk\n",
      "from corpus_reader import AssignmentCorpus"
     ],
     "language": "python",
     "metadata": {},
     "outputs": [],
     "prompt_number": 1
    },
    {
     "cell_type": "code",
     "collapsed": false,
     "input": [
      "training_dir = 'product_data_training_heldout/training/'"
     ],
     "language": "python",
     "metadata": {},
     "outputs": [],
     "prompt_number": 2
    },
    {
     "cell_type": "raw",
     "metadata": {},
     "source": [
      "Symbols used in the annotated reviews: \n",
      "\n",
      "  [t]: the title of the review: Each [t] tag starts a review. \n",
      "       We did not use the title information in our papers.\n",
      "  xxxx[+|-n]: xxxx is a product feature. \n",
      "      [+n]: Positive opinion, n is the opinion strength: 3 strongest, \n",
      "            and 1 weakest. Note that the strength is quite subjective. \n",
      "            You may want ignore it, but only considering + and -\n",
      "      [-n]: Negative opinion\n",
      "  ##  : start of each sentence. Each line is a sentence. \n",
      "  [u] : feature not appeared in the sentence.\n",
      "  [p] : feature not appeared in the sentence. Pronoun resolution is needed.\n",
      "  [s] : suggestion or recommendation.\n",
      "  [cc]: comparison with a competing product from a different brand.\n",
      "  [cs]: comparison with a competing product from the same brand."
     ]
    },
    {
     "cell_type": "code",
     "collapsed": false,
     "input": [
      "c = AssignmentCorpus(training_dir)\n",
      "print c.sents[0]\n",
      "print len(c.sents)"
     ],
     "language": "python",
     "metadata": {},
     "outputs": [
      {
       "output_type": "stream",
       "stream": "stdout",
       "text": [
        "([('SD500', 2, '')], ['We really enjoyed shooting with the Canon PowerShot SD500.'])\n",
        "4274\n"
       ]
      }
     ],
     "prompt_number": 5
    },
    {
     "cell_type": "code",
     "collapsed": false,
     "input": [
      "# each sents item is ( [(tag, score, other [u,p,s,cc,cs])...], sentence )\n",
      "# other is not fully parsed yet\n",
      "c.sents[1]"
     ],
     "language": "python",
     "metadata": {},
     "outputs": [
      {
       "metadata": {},
       "output_type": "pyout",
       "prompt_number": 4,
       "text": [
        "([('design', 2, '')],\n",
        " [\"It has an exterior design that combines form and function more elegantly than any point-and-shoot we've ever tested.\"])"
       ]
      }
     ],
     "prompt_number": 4
    },
    {
     "cell_type": "code",
     "collapsed": false,
     "input": [
      "## WORKING ON CORPUS READER CLASS TO FIX MULTIPLE SENTENCES PER LINE CASE\n",
      "import os\n",
      "import re\n",
      "from itertools import islice\n",
      "\n",
      "class AssignmentCorpus2():\n",
      "    def __init__(self, source_dir):\n",
      "        \n",
      "        self.source_dir = source_dir\n",
      "        self.files = self.getFiles(self.source_dir)\n",
      "        self.sents = self.readFiles(self.files, self.source_dir)\n",
      "        \n",
      "    def getFiles(self, source_dir):\n",
      "        files = [ f for (dirpath, dirnames, filenames) in os.walk(source_dir) \n",
      "                    for f in filenames if f[-4:] == '.txt' ]\n",
      "\n",
      "        return files\n",
      "        \n",
      "    def readFiles(self, files, source_dir):\n",
      "        sents = []\n",
      "        for fname in files:\n",
      "            with open(source_dir + fname) as infile:\n",
      "                for line in islice(infile.readlines(),None):\n",
      "                    line = line.strip()\n",
      "                    if line != '[t]':\n",
      "                        for tags, sent in self.cleanLine(line):\n",
      "                            sents.append((tags, sent))\n",
      "\n",
      "        return sents\n",
      "                        \n",
      "    def cleanLine(self, line):\n",
      "                \n",
      "        raw_tags, sent = line.split('##')[0], line.split('##')[1:]\n",
      "        tags = self.cleanTags(raw_tags)\n",
      "        \n",
      "        if len(sent) > 1:\n",
      "            \n",
      "            ## If you want to understand how this works, uncomment print statements\n",
      "            #print 'RAW',line\n",
      "            #print \n",
      "             \n",
      "            # others tested, (?:(?<!\\d)[\\.|\\?]\\s+) |(?:#{2})   (?:[\\.|\\?]\\s+)|(?:#{2})\n",
      "            # best = (?:(?<!\\d)[\\.|\\?]\\s+)(?!\\d.)|(?:(?<!#{2} )#{2})\n",
      "            \n",
      "            # split line on end of sentences AND hashes, with conditions = still not perfect but works in almost all cases\n",
      "            split_line = re.split(r'(?:(?<!\\d)[\\.|\\?]\\s+)(?!\\d.)|(?:(?<!#{2} )#{2})', line) \n",
      "            for i, part in enumerate(split_line):\n",
      "                if re.search(r'\\[([\\+|\\-])([0-9])\\]', part): ## check if first line has any tags\n",
      "                    tags =  self.cleanTags(part)\n",
      "                    sent = split_line[i+1]\n",
      "                    #print 'tags found'\n",
      "                    #print tags\n",
      "                    #print sent\n",
      "                    #print\n",
      "                    yield tags, sent\n",
      "            \n",
      "                elif i % 2 == 0 and i < len(split_line)-1: ## else yield the sentence without tags\n",
      "                    tags = []\n",
      "                    sent = split_line[i+1]\n",
      "                    #print 'no tags'\n",
      "                    #print tags\n",
      "                    #print sent\n",
      "                    #print\n",
      "                    yield tags, sent\n",
      "                                \n",
      "        else:\n",
      "            yield tags, sent\n",
      "        \"\"\"\n",
      "\n",
      "            yield [], ''\n",
      "            #yield tags, sent\n",
      "        \"\"\"\n",
      "    \n",
      "    def cleanTags(self, raw_tags):\n",
      "        tags = []\n",
      "        for tag in raw_tags.split(','):\n",
      "                if tag != '':\n",
      "                    matches = re.findall(r'(.*)\\[([\\+|\\-])([0-9])\\](?:\\[(.*)\\])?', tag) \n",
      "                    # with symbol r'\\[([\\+|\\-])([0-9])\\](?:\\[(\\w+)\\])?'\n",
      "                    if matches:\n",
      "                        matches = matches[0]\n",
      "                        text = matches[0]\n",
      "                        score = int(matches[2]) if matches[1] == '+' else -int(matches[2])\n",
      "                        other = matches[3]\n",
      "                        tags.append((text, score, other))\n",
      "                        \n",
      "        return tags"
     ],
     "language": "python",
     "metadata": {},
     "outputs": [],
     "prompt_number": 6
    },
    {
     "cell_type": "code",
     "collapsed": false,
     "input": [
      "corpus = AssignmentCorpus2(training_dir)"
     ],
     "language": "python",
     "metadata": {},
     "outputs": [],
     "prompt_number": 7
    },
    {
     "cell_type": "code",
     "collapsed": false,
     "input": [
      "len(corpus.sents)"
     ],
     "language": "python",
     "metadata": {},
     "outputs": [
      {
       "metadata": {},
       "output_type": "pyout",
       "prompt_number": 8,
       "text": [
        "4274"
       ]
      }
     ],
     "prompt_number": 8
    }
   ],
   "metadata": {}
  }
 ]
}